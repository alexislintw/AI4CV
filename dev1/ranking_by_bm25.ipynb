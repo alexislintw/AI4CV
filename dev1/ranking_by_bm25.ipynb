{
 "cells": [
  {
   "cell_type": "markdown",
   "metadata": {},
   "source": [
    "# ClinicalTrial criterias matching by query terms\n",
    "\n",
    "### Query Terms\n",
    "- 以法國五病例為查詢關鍵字來源\n",
    "- 檔案為 query_tokens.txt\n",
    "\n",
    "### Criteria Content\n",
    "- 以\"COVID-19\"搜尋ClinicalTrial的Search Results為資料來源\n",
    "- 以 extract_label.ipynb 產生criteria資料夾下的檔案\n",
    "- 以BM25計算各文件與query terms的相似性\n",
    "- 依照分數排序取出前5名"
   ]
  },
  {
   "cell_type": "code",
   "execution_count": 1,
   "metadata": {},
   "outputs": [],
   "source": [
    "import sys\n",
    "import os\n",
    "import numpy as np\n",
    "import pandas as pd\n",
    "import xml.etree.ElementTree as ET\n",
    "import re\n",
    "import STree\n",
    "from tqdm import tqdm\n",
    "from collections import Counter\n",
    "from gensim import corpora\n",
    "from gensim.summarization import bm25\n",
    "from nltk.stem.porter import PorterStemmer\n",
    "\n",
    "import nltk\n",
    "from nltk.stem import WordNetLemmatizer\n",
    "wordnet_lemmatizer = WordNetLemmatizer()\n",
    "\n",
    "import gensim\n",
    "from gensim.utils import simple_preprocess\n",
    "from gensim.parsing.preprocessing import STOPWORDS\n",
    "from gensim import corpora, models\n",
    "from gensim.models import Phrases"
   ]
  },
  {
   "cell_type": "code",
   "execution_count": 2,
   "metadata": {},
   "outputs": [],
   "source": [
    "def load_query_tokens():\n",
    "    lines = []\n",
    "    with open('query_tokens.txt') as f:  \n",
    "        for line in f:\n",
    "            line = line.strip()\n",
    "            if len(line) > 0:\n",
    "                lines.append(line.lower())\n",
    "    return lines\n",
    "\n",
    "def load_query_texts():\n",
    "    text = ''\n",
    "    with open('query_tokens.txt') as f:\n",
    "        lines = f.readlines()\n",
    "        for line in lines:\n",
    "            text = text + line.strip() + ' '\n",
    "    return text\n",
    "\n",
    "def load_all_ids():\n",
    "    id_list = []\n",
    "    \n",
    "    with open('process_results/all_ids.txt') as f:  \n",
    "        lines = f.readlines()\n",
    "        for line in lines:\n",
    "            id_list.append(line.strip())\n",
    "            \n",
    "    return id_list\n",
    "\n",
    "def load_file(file):\n",
    "    with open(file) as f:  \n",
    "        txt = f.read()\n",
    "        return txt"
   ]
  },
  {
   "cell_type": "code",
   "execution_count": 3,
   "metadata": {},
   "outputs": [],
   "source": [
    "def get_criteria_by_id(nct_id):\n",
    "    dataset_path = './criteria'\n",
    "    file1 = nct_id + '.inc'\n",
    "    file2 = nct_id + '.exc'\n",
    "    file_path_1 = os.path.join(dataset_path,file1)\n",
    "    file_path_2 = os.path.join(dataset_path,file2)\n",
    "    inc_cri = load_file(file_path_1).replace('\\n',' ')\n",
    "    exc_cri = load_file(file_path_2).replace('\\n',' ')\n",
    "    \n",
    "    content = (inc_cri,exc_cri)\n",
    "    return content\n",
    "\n",
    "def get_all_criteria():\n",
    "    all_criteria = []\n",
    "    for the_id in id_list:\n",
    "        criteria = get_criteria_by_id(the_id)\n",
    "        inc_criteria = criteria[0]\n",
    "        exc_criteria = criteria[1]\n",
    "        combine_criteria = inc_criteria + \" \" + exc_criteria\n",
    "        all_criteria.append(combine_criteria)\n",
    "    return all_criteria"
   ]
  },
  {
   "cell_type": "code",
   "execution_count": 4,
   "metadata": {},
   "outputs": [],
   "source": [
    "def preprocess(text):\n",
    "    result = []\n",
    "    for token in gensim.utils.simple_preprocess(text):\n",
    "        if token not in gensim.parsing.preprocessing.STOPWORDS and len(token) > 1:\n",
    "            token = wordnet_lemmatizer.lemmatize(token, pos='v')\n",
    "            token = wordnet_lemmatizer.lemmatize(token, pos='n')\n",
    "            result.append(token)\n",
    "    return result"
   ]
  },
  {
   "cell_type": "markdown",
   "metadata": {},
   "source": [
    "### 讀取預處理好的檔案"
   ]
  },
  {
   "cell_type": "code",
   "execution_count": 5,
   "metadata": {},
   "outputs": [],
   "source": [
    "id_list = load_all_ids()\n",
    "query_texts = load_query_texts()"
   ]
  },
  {
   "cell_type": "markdown",
   "metadata": {},
   "source": [
    "### query terms的處理"
   ]
  },
  {
   "cell_type": "code",
   "execution_count": 6,
   "metadata": {},
   "outputs": [
    {
     "name": "stdout",
     "output_type": "stream",
     "text": [
      "['fever', 'cough', 'conjunctivitis', 'diarrhoea', 'shortness', 'breath', 'white', 'blood', 'cell', 'neutrophil', 'lymphocyte', 'haemoglobin', 'platelet', 'prothrombin', 'time', 'albumin', 'creatinine', 'kinase', 'alanine', 'aspartate', 'bilirubin', 'sodium', 'potassium', 'urea', 'creatinine', 'reactive', 'protein', 'lactate', 'chest', 'ray']\n"
     ]
    }
   ],
   "source": [
    "processed_query = preprocess(query_texts)\n",
    "print(processed_query)"
   ]
  },
  {
   "cell_type": "markdown",
   "metadata": {},
   "source": [
    "### 取出所有 trials criteria"
   ]
  },
  {
   "cell_type": "code",
   "execution_count": 7,
   "metadata": {},
   "outputs": [
    {
     "name": "stdout",
     "output_type": "stream",
     "text": [
      "共 181 篇試驗\n",
      "\n"
     ]
    }
   ],
   "source": [
    "criteria_list = get_all_criteria()\n",
    "print('共',len(criteria_list),'篇試驗\\n')"
   ]
  },
  {
   "cell_type": "code",
   "execution_count": 8,
   "metadata": {},
   "outputs": [
    {
     "data": {
      "text/html": [
       "<div>\n",
       "<style scoped>\n",
       "    .dataframe tbody tr th:only-of-type {\n",
       "        vertical-align: middle;\n",
       "    }\n",
       "\n",
       "    .dataframe tbody tr th {\n",
       "        vertical-align: top;\n",
       "    }\n",
       "\n",
       "    .dataframe thead th {\n",
       "        text-align: right;\n",
       "    }\n",
       "</style>\n",
       "<table border=\"1\" class=\"dataframe\">\n",
       "  <thead>\n",
       "    <tr style=\"text-align: right;\">\n",
       "      <th></th>\n",
       "      <th>id</th>\n",
       "      <th>criteria</th>\n",
       "      <th>index</th>\n",
       "    </tr>\n",
       "  </thead>\n",
       "  <tbody>\n",
       "    <tr>\n",
       "      <th>0</th>\n",
       "      <td>NCT02735707</td>\n",
       "      <td>:          1. Adult patients admitted to an IC...</td>\n",
       "      <td>0</td>\n",
       "    </tr>\n",
       "    <tr>\n",
       "      <th>1</th>\n",
       "      <td>NCT03331445</td>\n",
       "      <td>-  Written informed consent.      ...</td>\n",
       "      <td>1</td>\n",
       "    </tr>\n",
       "    <tr>\n",
       "      <th>2</th>\n",
       "      <td>NCT03680274</td>\n",
       "      <td>1. Admitted to the intensive care ...</td>\n",
       "      <td>2</td>\n",
       "    </tr>\n",
       "    <tr>\n",
       "      <th>3</th>\n",
       "      <td>NCT03808922</td>\n",
       "      <td>1. At the time of randomization, r...</td>\n",
       "      <td>3</td>\n",
       "    </tr>\n",
       "    <tr>\n",
       "      <th>4</th>\n",
       "      <td>NCT04244591</td>\n",
       "      <td>-  Adult            -  PCR confirm...</td>\n",
       "      <td>4</td>\n",
       "    </tr>\n",
       "    <tr>\n",
       "      <th>5</th>\n",
       "      <td>NCT04251871</td>\n",
       "      <td>-  Confirmed 2019-nCoV infection c...</td>\n",
       "      <td>5</td>\n",
       "    </tr>\n",
       "    <tr>\n",
       "      <th>6</th>\n",
       "      <td>NCT04252274</td>\n",
       "      <td>-  The participants were diagnosed...</td>\n",
       "      <td>6</td>\n",
       "    </tr>\n",
       "    <tr>\n",
       "      <th>7</th>\n",
       "      <td>NCT04252664</td>\n",
       "      <td>1. Age &gt;=18 years at time of signi...</td>\n",
       "      <td>7</td>\n",
       "    </tr>\n",
       "    <tr>\n",
       "      <th>8</th>\n",
       "      <td>NCT04254874</td>\n",
       "      <td>1)2019-nCoV nucleic acid test was po...</td>\n",
       "      <td>8</td>\n",
       "    </tr>\n",
       "    <tr>\n",
       "      <th>9</th>\n",
       "      <td>NCT04255017</td>\n",
       "      <td>1. 2019-nCoV nucleic acid test was...</td>\n",
       "      <td>9</td>\n",
       "    </tr>\n",
       "  </tbody>\n",
       "</table>\n",
       "</div>"
      ],
      "text/plain": [
       "            id                                           criteria  index\n",
       "0  NCT02735707  :          1. Adult patients admitted to an IC...      0\n",
       "1  NCT03331445              -  Written informed consent.      ...      1\n",
       "2  NCT03680274              1. Admitted to the intensive care ...      2\n",
       "3  NCT03808922              1. At the time of randomization, r...      3\n",
       "4  NCT04244591              -  Adult            -  PCR confirm...      4\n",
       "5  NCT04251871              -  Confirmed 2019-nCoV infection c...      5\n",
       "6  NCT04252274              -  The participants were diagnosed...      6\n",
       "7  NCT04252664              1. Age >=18 years at time of signi...      7\n",
       "8  NCT04254874            1)2019-nCoV nucleic acid test was po...      8\n",
       "9  NCT04255017              1. 2019-nCoV nucleic acid test was...      9"
      ]
     },
     "execution_count": 8,
     "metadata": {},
     "output_type": "execute_result"
    }
   ],
   "source": [
    "documents = pd.DataFrame(list(zip(id_list,criteria_list)),columns=['id','criteria'])\n",
    "documents['index'] = documents.index\n",
    "documents[:10]"
   ]
  },
  {
   "cell_type": "code",
   "execution_count": 9,
   "metadata": {},
   "outputs": [
    {
     "data": {
      "text/plain": [
       "0    [adult, patient, admit, icu, severe, cap, hour...\n",
       "1    [write, inform, consent, previously, diagnose,...\n",
       "2    [admit, intensive, care, unit, prove, suspect,...\n",
       "3    [time, randomization, require, supplemental, o...\n",
       "4    [adult, pcr, confirm, noval, coronavirus, infe...\n",
       "5    [confirm, ncov, infection, case, term, laborat...\n",
       "6    [participant, diagnose, pneumonia, cause, ncov...\n",
       "7    [age, year, time, sign, inform, consent, form,...\n",
       "8    [ncov, nucleic, acid, test, positive, ct, lung...\n",
       "9    [ncov, nucleic, acid, test, positive, ct, lung...\n",
       "Name: criteria, dtype: object"
      ]
     },
     "execution_count": 9,
     "metadata": {},
     "output_type": "execute_result"
    }
   ],
   "source": [
    "processed_docs = documents['criteria'].map(preprocess)\n",
    "processed_docs[:10]"
   ]
  },
  {
   "cell_type": "markdown",
   "metadata": {},
   "source": [
    "### 加入 bigram terms"
   ]
  },
  {
   "cell_type": "code",
   "execution_count": 10,
   "metadata": {},
   "outputs": [
    {
     "name": "stdout",
     "output_type": "stream",
     "text": [
      "fever_cough\n",
      "shortness_breath\n",
      "chest_ray\n",
      "['fever', 'cough', 'conjunctivitis', 'diarrhoea', 'shortness', 'breath', 'white', 'blood', 'cell', 'neutrophil', 'lymphocyte', 'haemoglobin', 'platelet', 'prothrombin', 'time', 'albumin', 'creatinine', 'kinase', 'alanine', 'aspartate', 'bilirubin', 'sodium', 'potassium', 'urea', 'creatinine', 'reactive', 'protein', 'lactate', 'chest', 'ray', 'fever_cough', 'shortness_breath', 'chest_ray']\n"
     ]
    }
   ],
   "source": [
    "bigram = Phrases(processed_docs, min_count=3)\n",
    "\n",
    "for token in bigram[processed_query]:\n",
    "    if '_' in token:\n",
    "        print(token)\n",
    "        processed_query.append(token)\n",
    "        \n",
    "print(processed_query)\n",
    "\n",
    "for idx in range(len(processed_docs)):\n",
    "    for token in bigram[processed_docs[idx]]:\n",
    "        if '_' in token:\n",
    "            #print(token)\n",
    "            processed_docs[idx].append(token)"
   ]
  },
  {
   "cell_type": "markdown",
   "metadata": {},
   "source": [
    "### bm25模型"
   ]
  },
  {
   "cell_type": "code",
   "execution_count": 11,
   "metadata": {},
   "outputs": [
    {
     "name": "stdout",
     "output_type": "stream",
     "text": [
      "3.88417682378272\n"
     ]
    }
   ],
   "source": [
    "bm25Model = bm25.BM25(processed_docs)\n",
    "\n",
    "average_idf = sum(map(lambda k: float(bm25Model.idf[k]), bm25Model.idf.keys())) / len(bm25Model.idf.keys())\n",
    "print(average_idf)"
   ]
  },
  {
   "cell_type": "markdown",
   "metadata": {},
   "source": [
    "### 分別計算每個 trial 的分數後，依分數排序取前5名"
   ]
  },
  {
   "cell_type": "code",
   "execution_count": 12,
   "metadata": {},
   "outputs": [
    {
     "name": "stdout",
     "output_type": "stream",
     "text": [
      "181\n",
      "            id                                           criteria  index  \\\n",
      "0  NCT02735707  :          1. Adult patients admitted to an IC...      0   \n",
      "1  NCT03331445              -  Written informed consent.      ...      1   \n",
      "2  NCT03680274              1. Admitted to the intensive care ...      2   \n",
      "3  NCT03808922              1. At the time of randomization, r...      3   \n",
      "4  NCT04244591              -  Adult            -  PCR confirm...      4   \n",
      "5  NCT04251871              -  Confirmed 2019-nCoV infection c...      5   \n",
      "6  NCT04252274              -  The participants were diagnosed...      6   \n",
      "7  NCT04252664              1. Age >=18 years at time of signi...      7   \n",
      "8  NCT04254874            1)2019-nCoV nucleic acid test was po...      8   \n",
      "9  NCT04255017              1. 2019-nCoV nucleic acid test was...      9   \n",
      "\n",
      "       score  \n",
      "0   0.000000  \n",
      "1  12.990113  \n",
      "2   0.000000  \n",
      "3   6.489960  \n",
      "4   0.000000  \n",
      "5  15.768209  \n",
      "6   0.000000  \n",
      "7   4.688161  \n",
      "8   0.000000  \n",
      "9   0.000000  \n"
     ]
    }
   ],
   "source": [
    "scores = bm25Model.get_scores(processed_query)\n",
    "print(len(scores))\n",
    "#print('scores :',scores)\n",
    "\n",
    "documents['score'] = scores\n",
    "print(documents[:10])"
   ]
  },
  {
   "cell_type": "markdown",
   "metadata": {},
   "source": [
    "### 顯示最佳配對結果"
   ]
  },
  {
   "cell_type": "code",
   "execution_count": 13,
   "metadata": {},
   "outputs": [
    {
     "name": "stdout",
     "output_type": "stream",
     "text": [
      "134    NCT04331665\n",
      "180    NCT04337359\n",
      "66     NCT04313023\n",
      "149    NCT04333472\n",
      "5      NCT04251871\n",
      "Name: id, dtype: object\n"
     ]
    }
   ],
   "source": [
    "sorted_documents = documents.sort_values(by=['score'],ascending=False)\n",
    "top5_documents = sorted_documents[:5]\n",
    "#print(top5_documents)\n",
    "\n",
    "top5_id = top5_documents['id']\n",
    "print(top5_id)"
   ]
  },
  {
   "cell_type": "code",
   "execution_count": null,
   "metadata": {},
   "outputs": [],
   "source": []
  }
 ],
 "metadata": {
  "kernelspec": {
   "display_name": "Python 3",
   "language": "python",
   "name": "python3"
  },
  "language_info": {
   "codemirror_mode": {
    "name": "ipython",
    "version": 3
   },
   "file_extension": ".py",
   "mimetype": "text/x-python",
   "name": "python",
   "nbconvert_exporter": "python",
   "pygments_lexer": "ipython3",
   "version": "3.7.1"
  }
 },
 "nbformat": 4,
 "nbformat_minor": 2
}
