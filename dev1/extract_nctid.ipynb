{
 "cells": [
  {
   "cell_type": "code",
   "execution_count": 1,
   "metadata": {},
   "outputs": [],
   "source": [
    "import xml.etree.ElementTree as ET\n",
    "import os\n",
    "from collections import Counter"
   ]
  },
  {
   "cell_type": "code",
   "execution_count": 2,
   "metadata": {},
   "outputs": [],
   "source": [
    "def get_id_from_file(file):\n",
    "    tree = ET.parse(file)\n",
    "    root = tree.getroot()\n",
    "    \n",
    "    i = root.find('id_info')\n",
    "    nct_id = i.find('nct_id')\n",
    "    \n",
    "    e = root.findall('intervention')\n",
    "    \n",
    "    for intervention in e:\n",
    "        intervention_type = intervention.find('intervention_type').text\n",
    "        if intervention_type == 'Drug':\n",
    "            return nct_id.text\n",
    "        \n",
    "    return 0"
   ]
  },
  {
   "cell_type": "code",
   "execution_count": 3,
   "metadata": {},
   "outputs": [],
   "source": [
    "def get_all_ids():\n",
    "    all_contents = []\n",
    "    \n",
    "    dataset_path = './search_result'\n",
    "    for file in os.listdir(dataset_path):\n",
    "        file_path = os.path.join(dataset_path, file)\n",
    "        if os.path.isfile(file_path):\n",
    "            nct_id = get_id_from_file(file_path)\n",
    "            if nct_id != 0:\n",
    "                all_contents.append(nct_id)\n",
    "        else:\n",
    "            print(file_path + ' does not exist.')\n",
    "    return all_contents"
   ]
  },
  {
   "cell_type": "code",
   "execution_count": 6,
   "metadata": {},
   "outputs": [
    {
     "name": "stdout",
     "output_type": "stream",
     "text": [
      "共有  181\n"
     ]
    }
   ],
   "source": [
    "all_ids = get_all_ids()\n",
    "all_ids.sort()\n",
    "print('共有 ',len(all_ids))"
   ]
  },
  {
   "cell_type": "code",
   "execution_count": 5,
   "metadata": {},
   "outputs": [],
   "source": [
    "with open('./process_results/all_ids.txt', 'w') as f:\n",
    "    for line in all_ids:\n",
    "        f.write(\"%s\\n\" % line)"
   ]
  },
  {
   "cell_type": "code",
   "execution_count": null,
   "metadata": {},
   "outputs": [],
   "source": []
  }
 ],
 "metadata": {
  "kernelspec": {
   "display_name": "Python 3",
   "language": "python",
   "name": "python3"
  },
  "language_info": {
   "codemirror_mode": {
    "name": "ipython",
    "version": 3
   },
   "file_extension": ".py",
   "mimetype": "text/x-python",
   "name": "python",
   "nbconvert_exporter": "python",
   "pygments_lexer": "ipython3",
   "version": "3.7.1"
  }
 },
 "nbformat": 4,
 "nbformat_minor": 2
}
