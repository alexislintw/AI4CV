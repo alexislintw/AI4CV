{
 "cells": [
  {
   "cell_type": "markdown",
   "metadata": {},
   "source": [
    "### extract conditions (rules) by tokens\n",
    "- Author: Alexis\n",
    "- Date: 2020/5/18"
   ]
  },
  {
   "cell_type": "code",
   "execution_count": 1,
   "metadata": {},
   "outputs": [],
   "source": [
    "from AI4CVLIB import *"
   ]
  },
  {
   "cell_type": "code",
   "execution_count": 2,
   "metadata": {},
   "outputs": [
    {
     "name": "stdout",
     "output_type": "stream",
     "text": [
      "----------------------------------------\n",
      " 2. Subjects with Alanine Aminotransferase (ALT), Aspartate Aminotransferase (AST), or Alkaline Phosphatase (ALP) >=3x ULN and Total Bilirubin (TBILI) >=2x ULN Note: Subjects with ALT/AST/ALP >= 3x ULN AND TB >=2x ULN that have been chronically stable (for >1 year on more than one assessments) due to known liver pathology including malignancy (primary or metastasis), chronic medications, transplantation, or chronic infection will not be excluded \n",
      "\n",
      "NCT03808922 , exc , alt , >= , 3 \n",
      "\n",
      "INSERT INTO `feature_value_demo`(`nctid`,`feature`,`operator`,`value`,`criteria_type`)VALUES(\"NCT03808922\",\"alt\",\">=\",3,\"exc\"); \n",
      "\n",
      "----------------------------------------\n",
      " 1. Alanine Transaminase (ALT) or Aspartate Transaminase (AST) > 5 times the upper limit of normal. \n",
      "\n",
      "NCT04280705 , exc , alt , >= , 5 \n",
      "\n",
      "INSERT INTO `feature_value_demo`(`nctid`,`feature`,`operator`,`value`,`criteria_type`)VALUES(\"NCT04280705\",\"alt\",\">=\",5,\"exc\"); \n",
      "\n",
      "----------------------------------------\n",
      " -  Alanine Aminotransferase (ALT) or aspartate aminotransferase (AST) > 5 X upper limit of normal (ULN) \n",
      "\n",
      "NCT04292730 , exc , alt , >= , 5 \n",
      "\n",
      "INSERT INTO `feature_value_demo`(`nctid`,`feature`,`operator`,`value`,`criteria_type`)VALUES(\"NCT04292730\",\"alt\",\">=\",5,\"exc\"); \n",
      "\n",
      "----------------------------------------\n",
      " -  Alanine Aminotransferase (ALT) or aspartate aminotransferase (AST) > 5 X upper limit of normal (ULN) \n",
      "\n",
      "NCT04292899 , exc , alt , >= , 5 \n",
      "\n",
      "INSERT INTO `feature_value_demo`(`nctid`,`feature`,`operator`,`value`,`criteria_type`)VALUES(\"NCT04292899\",\"alt\",\">=\",5,\"exc\"); \n",
      "\n",
      "----------------------------------------\n",
      " -  Presence of any of the following abnormal laboratory values at screening: absolute neutrophil count (ANC) less than 2000 mm3, aspartate aminotransferase (AST) or alanine aminotransferase (ALT) greater than 5 x upper limit of normal (ULN), platelets <50,000 per mm3 \n",
      "\n",
      "NCT04315298 , exc , alt , >= , 2000 \n",
      "\n",
      "INSERT INTO `feature_value_demo`(`nctid`,`feature`,`operator`,`value`,`criteria_type`)VALUES(\"NCT04315298\",\"alt\",\">=\",2000,\"exc\"); \n",
      "\n",
      "----------------------------------------\n",
      " -  Alanine aminotransferase (ALT) or aspartate aminotransferase (AST) > 10 x upper limit of normal (ULN) detected within 24 hours at screening (per local lab) \n",
      "\n",
      "NCT04320615 , exc , alt , >= , 10 \n",
      "\n",
      "INSERT INTO `feature_value_demo`(`nctid`,`feature`,`operator`,`value`,`criteria_type`)VALUES(\"NCT04320615\",\"alt\",\">=\",10,\"exc\"); \n",
      "\n",
      "----------------------------------------\n",
      " -  ALT or AST is over 5 times the upper limit of normal \n",
      "\n",
      "NCT04340232 , exc , alt , >= , 5 \n",
      "\n",
      "INSERT INTO `feature_value_demo`(`nctid`,`feature`,`operator`,`value`,`criteria_type`)VALUES(\"NCT04340232\",\"alt\",\">=\",5,\"exc\"); \n",
      "\n",
      "----------------------------------------\n",
      " -  AST/ALT >five times the upper limit of normal ULN* \n",
      "\n",
      "NCT04341727 , exc , alt , >= , 0 \n",
      "\n",
      "INSERT INTO `feature_value_demo`(`nctid`,`feature`,`operator`,`value`,`criteria_type`)VALUES(\"NCT04341727\",\"alt\",\">=\",0,\"exc\"); \n",
      "\n",
      "----------------------------------------\n",
      " 13. Subjects with any of the following abnormal laboratory values at screening: aspartate AST or ALT greater than 3x ULN or bilirubin greater than 2x ULN \n",
      "\n",
      "NCT04346615 , exc , alt , >= , 3 \n",
      "\n",
      "INSERT INTO `feature_value_demo`(`nctid`,`feature`,`operator`,`value`,`criteria_type`)VALUES(\"NCT04346615\",\"alt\",\">=\",3,\"exc\"); \n",
      "\n",
      "----------------------------------------\n",
      " 9. AST/ALT > 5X ULN \n",
      "\n",
      "NCT04356937 , exc , alt , >= , 5 \n",
      "\n",
      "INSERT INTO `feature_value_demo`(`nctid`,`feature`,`operator`,`value`,`criteria_type`)VALUES(\"NCT04356937\",\"alt\",\">=\",5,\"exc\"); \n",
      "\n"
     ]
    }
   ],
   "source": [
    "### token為要抽取的feature term\n",
    "token = 'alt'\n",
    "rules = extract_rules_from_criteria_file(token)\n",
    "for r in rules:\n",
    "    print('----------------------------------------')\n",
    "    print(r['string'],'\\n')\n",
    "    print(r['nctid'],',',r['criteria_type'],',',r['feature'],',',r['operator'],',',r['value'],'\\n')\n",
    "    sql = convert_to_sql(r)\n",
    "    print(sql,'\\n')"
   ]
  },
  {
   "cell_type": "code",
   "execution_count": null,
   "metadata": {},
   "outputs": [],
   "source": []
  }
 ],
 "metadata": {
  "kernelspec": {
   "display_name": "Python 3",
   "language": "python",
   "name": "python3"
  },
  "language_info": {
   "codemirror_mode": {
    "name": "ipython",
    "version": 3
   },
   "file_extension": ".py",
   "mimetype": "text/x-python",
   "name": "python",
   "nbconvert_exporter": "python",
   "pygments_lexer": "ipython3",
   "version": "3.7.1"
  }
 },
 "nbformat": 4,
 "nbformat_minor": 2
}
