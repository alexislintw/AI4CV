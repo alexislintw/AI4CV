{
 "cells": [
  {
   "cell_type": "code",
   "execution_count": 1,
   "metadata": {},
   "outputs": [],
   "source": [
    "import xml.etree.ElementTree as ET\n",
    "import os\n",
    "from collections import Counter\n",
    "from datetime import datetime"
   ]
  },
  {
   "cell_type": "code",
   "execution_count": 2,
   "metadata": {},
   "outputs": [],
   "source": [
    "def get_content_from_file(file):\n",
    "    f = open(file)\n",
    "    lines = f.read()\n",
    "    #print lines\n",
    "    f.close()\n",
    "    return lines"
   ]
  },
  {
   "cell_type": "code",
   "execution_count": 3,
   "metadata": {},
   "outputs": [],
   "source": [
    "def get_first_post_from_file(string):\n",
    "    root = ET.fromstring(string)\n",
    "    \n",
    "    e = root.find('study_first_posted')\n",
    "    d = datetime.strptime(e.text,\"%B %d, %Y\").strftime(\"%Y-%m-%d\")\n",
    "    return (d)"
   ]
  },
  {
   "cell_type": "code",
   "execution_count": 4,
   "metadata": {},
   "outputs": [],
   "source": [
    "def get_criteria_from_file(file):\n",
    "    tree = ET.parse(file)\n",
    "    root = tree.getroot()\n",
    "    \n",
    "    e = root.find('eligibility')\n",
    "    c = e.find('criteria')\n",
    "    t = c.find('textblock')\n",
    "    #print(t.text)\n",
    "    return (t.text.lower())"
   ]
  },
  {
   "cell_type": "code",
   "execution_count": 5,
   "metadata": {},
   "outputs": [],
   "source": [
    "def get_all_trials():\n",
    "    all_contents = []\n",
    "    line = '' \n",
    "    dataset_path = '../search_result'\n",
    "    for file in os.listdir(dataset_path):\n",
    "        file_path = os.path.join(dataset_path, file)\n",
    "        if os.path.isfile(file_path):\n",
    "            content = get_content_from_file(file_path)\n",
    "            all_contents.append(content)\n",
    "        else:\n",
    "            print(file_path + ' does not exist.')\n",
    "    return all_contents"
   ]
  },
  {
   "cell_type": "markdown",
   "metadata": {},
   "source": [
    "### main entry"
   ]
  },
  {
   "cell_type": "code",
   "execution_count": 6,
   "metadata": {},
   "outputs": [
    {
     "name": "stdout",
     "output_type": "stream",
     "text": [
      "2020-01-13, 1\n",
      "2020-01-28, 2\n",
      "2020-01-29, 3\n",
      "2020-02-05, 12\n",
      "2020-02-06, 13\n",
      "2020-02-07, 19\n",
      "2020-02-10, 22\n",
      "2020-02-11, 24\n",
      "2020-02-13, 26\n",
      "2020-02-17, 28\n",
      "2020-02-18, 34\n",
      "2020-02-19, 41\n",
      "2020-02-20, 42\n",
      "2020-02-21, 50\n",
      "2020-02-24, 51\n",
      "2020-02-25, 53\n",
      "2020-02-26, 55\n",
      "2020-02-27, 57\n",
      "2020-02-28, 59\n",
      "2020-03-02, 64\n",
      "2020-03-03, 71\n",
      "2020-03-04, 72\n",
      "2020-03-05, 73\n",
      "2020-03-06, 76\n",
      "2020-03-09, 77\n",
      "2020-03-10, 80\n",
      "2020-03-11, 85\n",
      "2020-03-12, 90\n",
      "2020-03-13, 95\n",
      "2020-03-16, 97\n",
      "2020-03-17, 103\n",
      "2020-03-18, 111\n",
      "2020-03-19, 114\n",
      "2020-03-20, 125\n",
      "2020-03-23, 128\n",
      "2020-03-24, 142\n",
      "2020-03-25, 157\n",
      "2020-03-26, 177\n",
      "2020-03-27, 200\n",
      "2020-03-30, 215\n",
      "2020-03-31, 234\n",
      "2020-04-01, 255\n",
      "2020-04-02, 277\n",
      "2020-04-03, 301\n"
     ]
    }
   ],
   "source": [
    "list_date = []\n",
    "\n",
    "list_trials = get_all_trials()\n",
    "\n",
    "for t in list_trials:\n",
    "    # 2020之後開始採用\n",
    "    first_post = get_first_post_from_file(t)\n",
    "    if first_post.startswith('2020-'):\n",
    "        list_date.append(first_post)\n",
    "\n",
    "counter = Counter(list_date)\n",
    "list_sorted = sorted(counter.items())\n",
    "\n",
    "# 每日新增數\n",
    "sorted_daily = []\n",
    "for k,v in list_sorted:\n",
    "    s = k + ', ' + str(v)\n",
    "    #print(s)\n",
    "    sorted_daily.append(s)\n",
    "    \n",
    "# 累積案件數\n",
    "n = 0\n",
    "sorted_accumulated = []\n",
    "for k,v in list_sorted:\n",
    "    n = n + v\n",
    "    s = k + ', ' + str(n)\n",
    "    print(s)\n",
    "    sorted_accumulated.append(s)"
   ]
  },
  {
   "cell_type": "markdown",
   "metadata": {},
   "source": [
    "### save into csv file"
   ]
  },
  {
   "cell_type": "code",
   "execution_count": 7,
   "metadata": {},
   "outputs": [],
   "source": [
    "with open('../web/data.csv', 'w') as f:\n",
    "    for l in sorted_accumulated:\n",
    "        f.write(\"%s\\n\" % l)"
   ]
  },
  {
   "cell_type": "code",
   "execution_count": null,
   "metadata": {},
   "outputs": [],
   "source": []
  }
 ],
 "metadata": {
  "kernelspec": {
   "display_name": "Python 3",
   "language": "python",
   "name": "python3"
  },
  "language_info": {
   "codemirror_mode": {
    "name": "ipython",
    "version": 3
   },
   "file_extension": ".py",
   "mimetype": "text/x-python",
   "name": "python",
   "nbconvert_exporter": "python",
   "pygments_lexer": "ipython3",
   "version": "3.7.1"
  }
 },
 "nbformat": 4,
 "nbformat_minor": 2
}
