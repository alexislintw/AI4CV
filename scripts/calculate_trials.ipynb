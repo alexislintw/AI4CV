{
 "cells": [
  {
   "cell_type": "code",
   "execution_count": 1,
   "metadata": {},
   "outputs": [],
   "source": [
    "import xml.etree.ElementTree as ET\n",
    "import os\n",
    "from collections import Counter\n",
    "from datetime import datetime"
   ]
  },
  {
   "cell_type": "code",
   "execution_count": 2,
   "metadata": {},
   "outputs": [],
   "source": [
    "def get_content_from_file(file):\n",
    "    f = open(file)\n",
    "    lines = f.read()\n",
    "    #print lines\n",
    "    f.close()\n",
    "    return lines"
   ]
  },
  {
   "cell_type": "code",
   "execution_count": 3,
   "metadata": {},
   "outputs": [],
   "source": [
    "def get_first_post_from_file(string):\n",
    "    root = ET.fromstring(string)\n",
    "    \n",
    "    e = root.find('study_first_posted')\n",
    "    d = datetime.strptime(e.text,\"%B %d, %Y\").strftime(\"%Y-%m-%d\")\n",
    "    return (d)"
   ]
  },
  {
   "cell_type": "code",
   "execution_count": 4,
   "metadata": {},
   "outputs": [],
   "source": [
    "def get_criteria_from_file(file):\n",
    "    tree = ET.parse(file)\n",
    "    root = tree.getroot()\n",
    "    \n",
    "    e = root.find('eligibility')\n",
    "    c = e.find('criteria')\n",
    "    t = c.find('textblock')\n",
    "    #print(t.text)\n",
    "    return (t.text.lower())"
   ]
  },
  {
   "cell_type": "code",
   "execution_count": 5,
   "metadata": {},
   "outputs": [],
   "source": [
    "def get_all_trials():\n",
    "    all_contents = []\n",
    "    line = '' \n",
    "    dataset_path = './search_result'\n",
    "    for file in os.listdir(dataset_path):\n",
    "        file_path = os.path.join(dataset_path, file)\n",
    "        if os.path.isfile(file_path):\n",
    "            content = get_content_from_file(file_path)\n",
    "            all_contents.append(content)\n",
    "        else:\n",
    "            print(file_path + ' does not exist.')\n",
    "    return all_contents"
   ]
  },
  {
   "cell_type": "markdown",
   "metadata": {},
   "source": [
    "### main entry"
   ]
  },
  {
   "cell_type": "code",
   "execution_count": 6,
   "metadata": {},
   "outputs": [
    {
     "name": "stdout",
     "output_type": "stream",
     "text": [
      "2020-01-28, 1\n",
      "2020-01-29, 2\n",
      "2020-02-05, 11\n",
      "2020-02-06, 12\n",
      "2020-02-07, 18\n",
      "2020-02-10, 21\n",
      "2020-02-11, 23\n",
      "2020-02-13, 25\n",
      "2020-02-17, 27\n",
      "2020-02-18, 33\n",
      "2020-02-19, 40\n",
      "2020-02-20, 41\n",
      "2020-02-21, 49\n",
      "2020-02-24, 50\n",
      "2020-02-25, 52\n",
      "2020-02-26, 54\n",
      "2020-02-27, 56\n",
      "2020-02-28, 58\n",
      "2020-03-02, 63\n",
      "2020-03-03, 70\n",
      "2020-03-04, 71\n",
      "2020-03-05, 72\n",
      "2020-03-06, 75\n",
      "2020-03-09, 76\n",
      "2020-03-10, 79\n",
      "2020-03-11, 84\n",
      "2020-03-12, 89\n",
      "2020-03-13, 94\n",
      "2020-03-16, 96\n",
      "2020-03-17, 102\n",
      "2020-03-18, 110\n",
      "2020-03-19, 113\n",
      "2020-03-20, 124\n",
      "2020-03-23, 127\n",
      "2020-03-24, 141\n",
      "2020-03-25, 156\n",
      "2020-03-26, 176\n",
      "2020-03-27, 199\n",
      "2020-03-30, 214\n",
      "2020-03-31, 233\n",
      "2020-04-01, 254\n",
      "2020-04-02, 275\n",
      "2020-04-03, 299\n",
      "2020-04-06, 332\n",
      "2020-04-07, 357\n",
      "2020-04-08, 378\n",
      "2020-04-09, 400\n",
      "2020-04-10, 434\n",
      "2020-04-13, 462\n",
      "2020-04-14, 517\n",
      "2020-04-15, 576\n",
      "2020-04-16, 612\n",
      "2020-04-17, 649\n",
      "2020-04-20, 685\n",
      "2020-04-21, 736\n",
      "2020-04-22, 785\n",
      "2020-04-24, 892\n"
     ]
    }
   ],
   "source": [
    "list_date = []\n",
    "\n",
    "list_trials = get_all_trials()\n",
    "\n",
    "for t in list_trials:\n",
    "    # 2020之後開始採用\n",
    "    first_post = get_first_post_from_file(t)\n",
    "    if first_post.startswith('2020-'):\n",
    "        list_date.append(first_post)\n",
    "\n",
    "counter = Counter(list_date)\n",
    "list_sorted = sorted(counter.items())\n",
    "\n",
    "# 每日新增數\n",
    "sorted_daily = []\n",
    "for k,v in list_sorted:\n",
    "    s = k + ', ' + str(v)\n",
    "    #print(s)\n",
    "    sorted_daily.append(s)\n",
    "    \n",
    "# 累積案件數\n",
    "n = 0\n",
    "sorted_accumulated = []\n",
    "for k,v in list_sorted:\n",
    "    n = n + v\n",
    "    s = k + ', ' + str(n)\n",
    "    print(s)\n",
    "    sorted_accumulated.append(s)"
   ]
  },
  {
   "cell_type": "markdown",
   "metadata": {},
   "source": [
    "### save into csv file"
   ]
  },
  {
   "cell_type": "code",
   "execution_count": 7,
   "metadata": {},
   "outputs": [],
   "source": [
    "with open('../docs/data.csv', 'w') as f:\n",
    "    for l in sorted_accumulated:\n",
    "        f.write(\"%s\\n\" % l)"
   ]
  },
  {
   "cell_type": "code",
   "execution_count": null,
   "metadata": {},
   "outputs": [],
   "source": []
  }
 ],
 "metadata": {
  "kernelspec": {
   "display_name": "Python 3",
   "language": "python",
   "name": "python3"
  },
  "language_info": {
   "codemirror_mode": {
    "name": "ipython",
    "version": 3
   },
   "file_extension": ".py",
   "mimetype": "text/x-python",
   "name": "python",
   "nbconvert_exporter": "python",
   "pygments_lexer": "ipython3",
   "version": "3.7.1"
  }
 },
 "nbformat": 4,
 "nbformat_minor": 2
}
