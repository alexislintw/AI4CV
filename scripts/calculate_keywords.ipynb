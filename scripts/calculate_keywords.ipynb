{
 "cells": [
  {
   "cell_type": "code",
   "execution_count": 1,
   "metadata": {},
   "outputs": [],
   "source": [
    "import xml.etree.ElementTree as ET\n",
    "import os\n",
    "from collections import Counter"
   ]
  },
  {
   "cell_type": "code",
   "execution_count": 2,
   "metadata": {},
   "outputs": [],
   "source": [
    "def get_criteria_from_file(file):\n",
    "    tree = ET.parse(file)\n",
    "    root = tree.getroot()\n",
    "    \n",
    "    i = root.find('id_info')\n",
    "    nct_id = i.find('nct_id')\n",
    "    \n",
    "    e = root.find('eligibility')\n",
    "    c = e.find('criteria')\n",
    "    t = c.find('textblock')\n",
    "    #print(t.text)\n",
    "    #return (nct_id.text,t.text)\n",
    "    return (t.text.lower())"
   ]
  },
  {
   "cell_type": "code",
   "execution_count": 3,
   "metadata": {},
   "outputs": [],
   "source": [
    "def get_all_criteria():\n",
    "    #all_ids = []\n",
    "    all_contents = []\n",
    "    line = '' \n",
    "    dataset_path = './search_result'\n",
    "    for file in os.listdir(dataset_path):\n",
    "        file_path = os.path.join(dataset_path, file)\n",
    "        if os.path.isfile(file_path):\n",
    "            #(nct_id,content) = get_criteria_from_file(file_path)\n",
    "            content = get_criteria_from_file(file_path)\n",
    "            all_contents.append(content)\n",
    "            #line = line + nct_id + '\\n'\n",
    "            #line = line + content + '\\n\\n'\n",
    "        else:\n",
    "            print(file_path + ' does not exist.')\n",
    "    return all_contents\n",
    "    #return line"
   ]
  },
  {
   "cell_type": "code",
   "execution_count": 4,
   "metadata": {},
   "outputs": [],
   "source": [
    "def get_keywords():\n",
    "    kw = []\n",
    "    with open('match_keywords.txt') as f:  \n",
    "        lines = f.readlines()\n",
    "        print(type(lines))\n",
    "    \n",
    "    for line in lines:\n",
    "        kw.append(line.strip().lower())\n",
    "        \n",
    "    return kw\n",
    "\n",
    "#keywords = get_keywords()\n",
    "#print(keywords[:10])"
   ]
  },
  {
   "cell_type": "code",
   "execution_count": 16,
   "metadata": {},
   "outputs": [
    {
     "name": "stdout",
     "output_type": "stream",
     "text": [
      "<class 'list'>\n",
      "ast, 84\n",
      "alt, 42\n",
      "icu, 35\n",
      "fever, 33\n",
      "pao2, 28\n",
      "fio2, 28\n",
      "mechanical ventilation, 28\n",
      "allergic, 28\n",
      "hiv, 27\n",
      "cough, 24\n",
      "spo2, 23\n",
      "malignant tumor, 18\n",
      "respiratory distress, 14\n",
      "respiratory rate, 11\n",
      "child pugh score, 8\n",
      "creatinine clearance, 8\n",
      "immunosuppressive agents, 7\n",
      "arrhythmias, 6\n",
      "chest ct, 5\n",
      "myalgia, 5\n",
      "hcv, 5\n",
      "active bleeding, 5\n",
      "autoimmune diseases, 5\n",
      "severe malnutrition, 5\n",
      "fatigue, 4\n",
      "bacterial pneumonia, 4\n",
      "hbv, 4\n",
      "peritoneal dialysis, 4\n",
      "organ transplants, 4\n",
      "computed tomography, 3\n",
      "sputum production, 3\n",
      "headache, 3\n",
      "obstructive pneumonia, 3\n",
      "pulmonary interstitial fibrosis, 3\n",
      "alveolar proteinosis, 3\n",
      "allergic alveolitis, 3\n",
      "renal impairment, 3\n",
      "adenovirus, 3\n",
      "psychosis, 3\n",
      "expected survival time, 3\n",
      "end-stage lung disease, 3\n",
      "chest radiograph, 2\n",
      "coronary artery disease, 2\n",
      "diabetes, 2\n",
      "sofa, 2\n",
      "sore-throat, 1\n",
      "nasal discharge, 1\n",
      "fungal pneumonia, 1\n",
      "blood dyscrasia, 1\n",
      "significant disorder of coagulation, 1\n",
      "parainfluenza virus, 1\n",
      "chest tightness, 0\n",
      "dypnea, 0\n",
      "fat liver, 0\n",
      "continuous renal replacement therapy hemodialysis, 0\n"
     ]
    }
   ],
   "source": [
    "counter = {}\n",
    "keywords = get_keywords()\n",
    "criterias = get_all_criteria()\n",
    "\n",
    "for kw in keywords:\n",
    "    count = 0\n",
    "    for txt in criterias:\n",
    "        if kw in txt:\n",
    "            count += 1\n",
    "    counter.update([(kw,count)])\n",
    "\n",
    "x = Counter(counter)\n",
    "y = x.most_common()\n",
    "#print(y)\n",
    "\n",
    "sorted_lines = []\n",
    "for k,v in y:\n",
    "    s = k + ', ' + str(v)\n",
    "    print(s)\n",
    "    sorted_lines.append(s)"
   ]
  },
  {
   "cell_type": "code",
   "execution_count": 17,
   "metadata": {},
   "outputs": [],
   "source": [
    "with open('all_keywords.txt', 'w') as f:\n",
    "    for l in sorted_lines:\n",
    "        f.write(\"%s\\n\" % l)"
   ]
  },
  {
   "cell_type": "code",
   "execution_count": null,
   "metadata": {},
   "outputs": [],
   "source": []
  }
 ],
 "metadata": {
  "kernelspec": {
   "display_name": "Python 3",
   "language": "python",
   "name": "python3"
  },
  "language_info": {
   "codemirror_mode": {
    "name": "ipython",
    "version": 3
   },
   "file_extension": ".py",
   "mimetype": "text/x-python",
   "name": "python",
   "nbconvert_exporter": "python",
   "pygments_lexer": "ipython3",
   "version": "3.7.1"
  }
 },
 "nbformat": 4,
 "nbformat_minor": 2
}
